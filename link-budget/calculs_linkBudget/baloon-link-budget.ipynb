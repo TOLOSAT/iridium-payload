{
 "cells": [
  {
   "cell_type": "code",
   "execution_count": null,
   "metadata": {},
   "outputs": [],
   "source": [
    "%% RF Study for Iridium Next Payload\n",
    "% TOLOSAT\n",
    "% 12/2020\n",
    "% Link budget\n",
    "% Code for the calculation of a link budget TOLOSAT (/ground) - Iridium\n",
    "clearvars\n",
    "%% INPUTS\n",
    "uplink = false;\n",
    "%Average Power during a transmit slot (max)\n",
    "P_PL = 1.5; %[W]\n",
    "%Average power iridium \n",
    "P_SAT = 1;\n",
    "%Gain max of the payload/ground/our antenna\n",
    "%MPA-D254-1621 realized gain\n",
    "GPL_max = 2.5; %[dBi]\n",
    "%No clue on how to estimate system noise temperature. We assume this number\n",
    "%from Iridium budget sheet\n",
    "GoverT_PL = -31;    %[dB]\n",
    "%Gain max of Iridium satellite\n",
    "%? Phased antenna array\n",
    "GSAT_max = 20.9; %[dB]\n",
    "%No clue on how to estimate system noise temperature. We assume this number\n",
    "%from Iridium budget sheet\n",
    "GoverT_SAT = -11.2;    %[dB]\n",
    "%Data rate \n",
    "%Earth radius\n",
    "RE = 6378e3 ;  %[m]\n",
    "%Altitude of Iridium satellite orbit\n",
    "H = 780e3;  %[m]\n",
    "%Boltzmann constant\n",
    "kB = -228.8; %[dBJ/K]\n",
    "%Bandwidth \n",
    "B = 10e6;   %[Hz]\n",
    "%Symbol rate\n",
    "SR = 25e3;  %[bps]\n",
    "%Modulation size\n",
    "M = 4;\n",
    "%Elevation angle (case ground to satellite)\n",
    "E = 23.53*pi/180;     %[rad]\n",
    "%Difference in true anomalies between TOLOSAT and Iridum next satellite\n",
    "%(case satellite to satellite)\n",
    "Dth = 10*pi/180;   %[rad]\n",
    "%Link frequency\n",
    "f0 = 1620*1e6;   %[Hz]\n",
    "\n",
    "%Speed of light\n",
    "c = 2.998e8;   %[m/s]\n",
    "\n"
   ]
  }
 ],
 "metadata": {
  "language_info": {
   "name": "python"
  },
  "orig_nbformat": 4
 },
 "nbformat": 4,
 "nbformat_minor": 2
}
