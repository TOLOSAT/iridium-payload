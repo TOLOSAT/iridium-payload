{
 "cells": [
  {
   "cell_type": "code",
   "execution_count": 3,
   "metadata": {},
   "outputs": [],
   "source": [
    "\n",
    "## RF Study for Iridium-Next constellation-Tolosat Payload ##\n",
    "#############################################################\n",
    "# TOLOSAT\n",
    "# Link budget\n",
    "# Adapted from a 2020 MATLAB code by Nicola Imperatore, 2020-2021 Iridium subsystem leader\n",
    "# Code for the calculation of a link budget TOLOSAT (/ground) - Iridium\n",
    "\n",
    "# mag/db conversions\n",
    "import control\n",
    "# general library import\n",
    "import numpy as np\n",
    "\n",
    "# TLE tools import\n",
    "from tletools import TLE\n",
    "\n",
    "# poly astro library import\n",
    "from astropy import units as u\n",
    "import poliastro as pa\n",
    "\n",
    "# plotting utilities\n",
    "import plotly.io as pio\n",
    "from poliastro.plotting import OrbitPlotter3D\n",
    "\n",
    "# to plot at current time\n",
    "from astropy.time import Time\n"
   ]
  },
  {
   "cell_type": "code",
   "execution_count": 10,
   "metadata": {},
   "outputs": [],
   "source": [
    "## INPUTS\n",
    "uplink = True\n",
    "# Max average Power during a transmit slot [DR1 p25]\n",
    "P_PL = 1.5 #[W] # 1.6W for the 9602 modem\n",
    "\n",
    "\n",
    "# Average power emitted by an iridium satellite\n",
    "########### UNKNOWN ###########\n",
    "### NEED TO ASK V. MARTELET ###\n",
    "###############################\n",
    "P_SAT = 1\n",
    "\n",
    "# Max gain of our antenna\n",
    "#MPA-D254-1621 at 1621 Hz [DR2]\n",
    "GPL_max = 2.5 #[dBi]\n",
    "\n",
    "#No clue on how to estimate system noise temperature. We assume this number\n",
    "#from Iridium budget sheet\n",
    "#####TO BE REEVALUATED#####\n",
    "GoverT_PL = -31    #[dB] [DR3]\n",
    "\n",
    "#Gain max of Iridium satellite\n",
    "# Phased antenna array\n",
    "#####TO BE VERIFIED#####\n",
    "GSAT_max = 20.9 #[dB]\n",
    "\n",
    "# We assume this number\n",
    "#from Iridium budget sheet\n",
    "GoverT_SAT = -11.2    #[dB] [DR4]\n",
    "###########ON D its written -13.6!!!!! --->but need to undertsand what is Statistical value @90% earth for \" G/T *Xpol_loss\"\n",
    "\n",
    "#Bandwidth \n",
    "B = 10.5e6  #[Hz] [DR1]\n",
    "#Symbol rate \n",
    "SR = 25e3  #[bps] [DR 3, 4]\n",
    "#Modulation size\n",
    "M = 4  #[DR 5]\n",
    "#Data rate \n",
    "DR=3,5  #[kb/s/burst] [DR 3, 4]\n",
    "#Link frequency\n",
    "f0 = 1621*1e6   #[Hz] [DR1 p25]\n",
    "\n",
    "#Speed of light\n",
    "c = 2.998e8   #[m/s]\n",
    "#Boltzmann constant\n",
    "kB = -228.8 #[dBJ/K]\n",
    "\n",
    "#Maximum cable losses admitted between modem and antenna\n",
    "Lc_PL = 2    #[dB] # [DR1 p25]\n",
    "#NB:Solutions with a loss higher than 3dB will not meet the\n",
    "#requirements of Iridium Solution certification.\n",
    "\n",
    "#Losses in Iridium satellite (hypothesis)\n",
    "Lc_SAT = 0    #[dB]\n",
    "\n",
    "#Axial ratio of our MPA-D254-1621 antenna \n",
    "AR_PL = 4 #[dB] [DR2]\n",
    "\n",
    "#Axial ratio of the Iridium satellite antennas\n",
    "#Iridium next satellite axial ratio (Iridium constellation document)\n",
    "AR_SAT = 3.5  #[dB] [DR6 p15]\n",
    "\n",
    "#Atmospheric losses\n",
    "#Negligible as the atmosphere become very thin at these altitudes\n",
    "# [DR3] even indicated that at f0 it was pretty negligible\n",
    "Latm = 0   #[dB] [DR3]\n",
    "\n",
    "#Diverse losses, margin\n",
    "#Term on modem documentation\n",
    "\n",
    "Lm_UL = 0 #[dB]  difference between the received power level (Lm)\n",
    "        # and the maximum allowed power level (Ul)\n",
    "Lm_DL =0  #[dB] difference between (Lm) \n",
    "        # and the minimum required power level (Dl)\n",
    "# Link margin (downlink, ie IR -- TS)\n",
    "Lm_SAT = 13 # [dB] [DR1 p25]\n",
    "# Link margin (uplink)\n",
    "Lm_PL = 7 # [dB] [DR1 p25]\n"
   ]
  },
  {
   "cell_type": "markdown",
   "metadata": {},
   "source": [
    "Uplink or downlink\n"
   ]
  },
  {
   "cell_type": "code",
   "execution_count": 11,
   "metadata": {},
   "outputs": [],
   "source": [
    "if(uplink):\n",
    "    Pin = P_PL\n",
    "    Gt_max = GPL_max\n",
    "    Gr_max = 0\n",
    "    ARt = control.db2mag(AR_PL)\n",
    "    ARr = control.db2mag(AR_SAT)\n",
    "    Ltx = Lc_PL\n",
    "    Lrx = Lc_SAT\n",
    "    Lm = Lm_PL\n",
    "    GoverT = GoverT_SAT\n",
    "else :\n",
    "    Pin = P_SAT\n",
    "    Gt_max = GSAT_max\n",
    "    Gr_max = GPL_max\n",
    "    ARt = control.db2mag(AR_SAT)\n",
    "    ARr = control.db2mag(AR_PL)\n",
    "    Ltx = Lc_SAT\n",
    "    Lrx = Lc_PL\n",
    "    Lm = Lm_SAT\n",
    "    GoverT = GoverT_PL"
   ]
  },
  {
   "cell_type": "markdown",
   "metadata": {},
   "source": [
    "Code by @benoit-maillet to calculate the minimum distance from Tolosat to an iridium-next satellite."
   ]
  },
  {
   "cell_type": "code",
   "execution_count": 12,
   "metadata": {},
   "outputs": [
    {
     "name": "stdout",
     "output_type": "stream",
     "text": [
      "483.39451558828887\n"
     ]
    }
   ],
   "source": [
    "# This converts list of TLE to list of poliastro.orbit\n",
    "\n",
    "iridium_TLE = TLE.load('iridium-next.txt') # load TLE\n",
    "\n",
    "iridium_orb = [] # initialization\n",
    "\n",
    "for i in range(len(iridium_TLE)): # convertion\n",
    "    iridium_orb.append(iridium_TLE[i].to_orbit())\n",
    "\n",
    "\n",
    "# Function to get the distance between two object\n",
    "def dist_between(a, b):\n",
    "    return np.sqrt( (a.r[0]-b.r[0])**2 + (a.r[1]-b.r[1])**2 + (a.r[2]-b.r[2])**2)\n",
    "\n",
    "now = Time.now() # get the actual time\n",
    "\n",
    "for i in range(len(iridium_orb)):\n",
    "    iridium_orb[i] = iridium_orb[i].propagate(now)\n",
    "\n",
    "tolosat_orb = pa.twobody.orbit.Orbit.from_classical(\n",
    "    pa.bodies.Earth,    # main attractor\n",
    "    6878 * u.km,        # Semi-major axis\n",
    "    0.002 * u.one,      # Eccentricity\n",
    "    97.4 * u.deg,       # Inclination\n",
    "    0.187 * u.rad,      # RAAN (Right ascension of the ascending node)\n",
    "    np.pi/2 * u.rad,    # Argument of the pericenter\n",
    "    0 * u.deg,          # true anomaly\n",
    "    now                 # epoch (time)\n",
    ")\n",
    "distFromConst = []\n",
    "distFromConst_name = []\n",
    "\n",
    "for i in range(len(iridium_orb)):\n",
    "    distFromConst.append(dist_between(tolosat_orb,iridium_orb[i]))\n",
    "    distFromConst_name.append(iridium_TLE[i].name)\n",
    "\n",
    "index_of_min = distFromConst.index(min(distFromConst))\n",
    "R=min(distFromConst) \n",
    "print(R.value)"
   ]
  },
  {
   "cell_type": "markdown",
   "metadata": {},
   "source": [
    "Preliminary calculations"
   ]
  },
  {
   "cell_type": "code",
   "execution_count": 13,
   "metadata": {},
   "outputs": [
    {
     "name": "stdout",
     "output_type": "stream",
     "text": [
      "Lfs=\n",
      "151.3404633112167\n",
      "Lpol=\n",
      "1.6424501176784998\n"
     ]
    }
   ],
   "source": [
    "#Input power conversion\n",
    "P_PL = control.mag2db(P_PL)\n",
    "#Wavelength\n",
    "lambd = 1621*1e6 / f0 #[m]\n",
    "\n",
    "# Free-space loss\n",
    "Lfs = (4*np.pi*R.value)**2 / lambd**2\n",
    "Lfs = control.mag2db(Lfs)\n",
    "print(\"Lfs=\")\n",
    "print(Lfs)\n",
    "\n",
    "#Polarisation loss\n",
    "#Beta is the angle between transmitter and receiver ellipses\n",
    "beta = 90*np.pi/180\n",
    "Lpol = 1/2 + 2*ARt*ARr / ( (1+ ARt**2)*(1+ARr**2))+ ((1-ARt**2)*(1-ARr**2) / (2* (1+ARr**2)*(1+ARr**2)))*np.cos(2*beta)\n",
    "Lpol = -control.mag2db(Lpol)\n",
    "print(\"Lpol=\")\n",
    "print(Lpol)\n"
   ]
  },
  {
   "cell_type": "code",
   "execution_count": 14,
   "metadata": {},
   "outputs": [
    {
     "name": "stdout",
     "output_type": "stream",
     "text": [
      "CN0=\n",
      "82.01708657110483\n",
      "EsN0=\n",
      "134.48207237906286\n",
      "EbN0=\n",
      "128.46147246578323\n"
     ]
    }
   ],
   "source": [
    "## Link budget calculation [DT1]\n",
    "L =  Lfs + Lpol + Ltx + Lrx + Latm + Lm # Total loss\n",
    "\n",
    "Prec = Pin + Gt_max + Gr_max - L # Link budget equation in dB\n",
    "\n",
    "control.db2mag(Prec) #W\n",
    "control.mag2db(control.db2mag(Prec)*1e3) #dBm\n",
    "\n",
    "# Carrier-to-noise ratio ie\n",
    "# Signal-to-noise ratio (SNR) of the received signal after the receiver filter but before detection:\n",
    "\n",
    "CN0 = Prec - kB-GoverT\n",
    "print(\"CN0=\")\n",
    "print(CN0)\n",
    "\n",
    "# energy per symbol to noise power spectral density \n",
    "# Signal to noise ratio\n",
    "EsN0 = CN0 + control.mag2db(B)- control.mag2db(SR)\n",
    "print(\"EsN0=\")\n",
    "print(EsN0)\n",
    "\n",
    "#Eb/N0 (energy per bit to noise power spectral density ratio)\n",
    "#Normalized SNR         -- Have to divide by the modulation size M\n",
    "EbN0 = EsN0 - control.mag2db(np.log2(M))\n",
    "\n",
    "print(\"EbN0=\")\n",
    "print(EbN0)"
   ]
  }
 ],
 "metadata": {
  "kernelspec": {
   "display_name": "base",
   "language": "python",
   "name": "python3"
  },
  "language_info": {
   "codemirror_mode": {
    "name": "ipython",
    "version": 3
   },
   "file_extension": ".py",
   "mimetype": "text/x-python",
   "name": "python",
   "nbconvert_exporter": "python",
   "pygments_lexer": "ipython3",
   "version": "3.8.5 (default, Sep  4 2020, 07:30:14) \n[GCC 7.3.0]"
  },
  "orig_nbformat": 4,
  "vscode": {
   "interpreter": {
    "hash": "24cec6f6459d0d0d29ae8d4add9382b24db3bca9c0c7ef0e575cc22e8cf46f85"
   }
  }
 },
 "nbformat": 4,
 "nbformat_minor": 2
}
